{
 "cells": [
  {
   "cell_type": "code",
   "execution_count": 59,
   "metadata": {},
   "outputs": [
    {
     "name": "stdout",
     "output_type": "stream",
     "text": [
      "(2, 3)\n",
      "(2, 3, 4)\n",
      "p1 == p2 :  True\n",
      "p1 != p3 :  True\n",
      "(4, 6, 4)\n"
     ]
    }
   ],
   "source": [
    "class Point:\n",
    "\n",
    "    def __init__(self, x, y, z = None):\n",
    "        self._x = x\n",
    "        self._y = y\n",
    "        self._z = z\n",
    "        \n",
    "    def to_string(self):\n",
    "        z = \"\" if self._z is None else \", \" + str(self._z)\n",
    "        print(\"({x}, {y}{z})\".format(x = self._x, y = self._y, z = z))\n",
    "               \n",
    "    def __eq__(self, p):\n",
    "        return self._x == p._x and self._y == p._y and self._z == p._z\n",
    "    \n",
    "    def __ne__(self, p):\n",
    "        return self._x != p._x or self._y != p._y or self._z != p._z\n",
    "    \n",
    "    def __add__(self, p):\n",
    "        point = None \n",
    "        x = self._x + p._x\n",
    "        y = self._y + p._y\n",
    "        \n",
    "        if self._z is None and p._z is None: \n",
    "            point = Point(x, y) \n",
    "        elif self._z is None: \n",
    "            point = Point(x, y, p._z)\n",
    "        elif p._z is None: \n",
    "            point = Point(x, y, self._z)\n",
    "        else: \n",
    "            point = Point(x, y, self._z + p._z)\n",
    "        \n",
    "        return point \n",
    "        \n",
    "p1 = Point(2,3)\n",
    "p2 = Point(2,3)\n",
    "p3 = Point(2,3,4)\n",
    "\n",
    "p1.to_string()\n",
    "p3.to_string()\n",
    "\n",
    "print('p1 == p2 : ', p1 == p2)\n",
    "print('p1 != p3 : ', p1 != p3)\n",
    "\n",
    "point = p1 + p3\n",
    "point.to_string()\n"
   ]
  },
  {
   "cell_type": "code",
   "execution_count": null,
   "metadata": {},
   "outputs": [],
   "source": []
  }
 ],
 "metadata": {
  "kernelspec": {
   "display_name": "Python 3",
   "language": "python",
   "name": "python3"
  },
  "language_info": {
   "codemirror_mode": {
    "name": "ipython",
    "version": 3
   },
   "file_extension": ".py",
   "mimetype": "text/x-python",
   "name": "python",
   "nbconvert_exporter": "python",
   "pygments_lexer": "ipython3",
   "version": "3.6.9"
  }
 },
 "nbformat": 4,
 "nbformat_minor": 4
}
