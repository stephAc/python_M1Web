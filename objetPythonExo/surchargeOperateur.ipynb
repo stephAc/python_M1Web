{
 "cells": [
  {
   "cell_type": "code",
   "execution_count": 43,
   "metadata": {},
   "outputs": [
    {
     "name": "stdout",
     "output_type": "stream",
     "text": [
      "( 2 , 3 )\n",
      "p1 == p2 :  True\n",
      "( 4 , 6 )\n",
      "p1 != p2 :  True\n",
      "( 2 , 3 , 4 )\n",
      "p1 != p3 :  True\n",
      "( 6 , 9 , 4 )\n"
     ]
    }
   ],
   "source": [
    "class Point:\n",
    "    _x = 0\n",
    "    _y = 0\n",
    "    _z = None\n",
    "    \n",
    "    def __init__(self, x = 0, y = 0, z = None):\n",
    "        self._x = x\n",
    "        self._y = y\n",
    "        self._z = z\n",
    "        \n",
    "    def to_string(self):\n",
    "        if self._z is None: \n",
    "            print(\"(\",self._x,\",\",self._y,\")\")\n",
    "        else: \n",
    "            print(\"(\",self._x,\",\",self._y,\",\",self._z,\")\")\n",
    "               \n",
    "    def __eq__(self, p):\n",
    "        return self._x == p._x and self._y == p._y and self._z == p._z\n",
    "    \n",
    "    def __ne__(self, p):\n",
    "        return self._x != p._x or self._y != p._y or self._z != p._z\n",
    "    \n",
    "    def __add__(self, p):\n",
    "        point = None \n",
    "        x = self._x + p._x\n",
    "        y = self._y + p._y\n",
    "        \n",
    "        if self._z is None and p._z is None: \n",
    "            point = Point(x, y) \n",
    "        elif self._z is None: \n",
    "            point = Point(x, y, p._z)\n",
    "        elif p._z is None: \n",
    "            point = Point(x, y, self._z)\n",
    "        else: \n",
    "            point = Point(x, y, self._z + p._z)\n",
    "        \n",
    "        return point \n",
    "        \n",
    "p1 = Point(2,3)\n",
    "p2 = Point(2,3)\n",
    "p3 = Point(2,3,4)\n",
    "\n",
    "p1.to_string()\n",
    "print('p1 == p2 : ', p1 == p2)\n",
    "\n",
    "p1 = p1+p2\n",
    "\n",
    "p1.to_string()\n",
    "print('p1 != p2 : ', p1 != p2)\n",
    "\n",
    "p3.to_string()\n",
    "print('p1 != p3 : ', p1 != p3)\n",
    "\n",
    "p1 = p1 + p3\n",
    "p1.to_string()\n",
    "\n"
   ]
  },
  {
   "cell_type": "code",
   "execution_count": null,
   "metadata": {},
   "outputs": [],
   "source": []
  }
 ],
 "metadata": {
  "kernelspec": {
   "display_name": "Python 3",
   "language": "python",
   "name": "python3"
  },
  "language_info": {
   "codemirror_mode": {
    "name": "ipython",
    "version": 3
   },
   "file_extension": ".py",
   "mimetype": "text/x-python",
   "name": "python",
   "nbconvert_exporter": "python",
   "pygments_lexer": "ipython3",
   "version": "3.6.9"
  }
 },
 "nbformat": 4,
 "nbformat_minor": 4
}
