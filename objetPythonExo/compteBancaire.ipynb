{
 "cells": [
  {
   "cell_type": "code",
   "execution_count": 20,
   "metadata": {},
   "outputs": [
    {
     "name": "stdout",
     "output_type": "stream",
     "text": [
      "Nom: Duchmol, Solde: 650\n",
      "Nom: Dupont, Solde: 1025\n"
     ]
    }
   ],
   "source": [
    "class CompteBancaire:\n",
    "    _nom = ''\n",
    "    _solde = 0\n",
    "    \n",
    "    def __init__(self, nom = 'Dupont', solde = 1000):\n",
    "        self._nom = nom\n",
    "        self._solde = solde\n",
    "    \n",
    "    def depot(self, somme): \n",
    "        self._solde = self._solde + somme\n",
    "    \n",
    "    def retrait(self, somme):\n",
    "        self._solde = self._solde - somme\n",
    "    \n",
    "    def affiche(self):\n",
    "        print(\"Nom: {nom}, Solde: {solde}\".format(nom=self._nom, solde=self._solde))\n",
    "\n",
    "\n",
    "compte1 = CompteBancaire('Duchmol', 500)\n",
    "compte1.depot(350)\n",
    "compte1.retrait(200)\n",
    "compte1.affiche()\n",
    "compte2 = CompteBancaire()\n",
    "compte2.depot(25)\n",
    "compte2.affiche()"
   ]
  },
  {
   "cell_type": "code",
   "execution_count": null,
   "metadata": {},
   "outputs": [],
   "source": []
  }
 ],
 "metadata": {
  "kernelspec": {
   "display_name": "Python 3",
   "language": "python",
   "name": "python3"
  },
  "language_info": {
   "codemirror_mode": {
    "name": "ipython",
    "version": 3
   },
   "file_extension": ".py",
   "mimetype": "text/x-python",
   "name": "python",
   "nbconvert_exporter": "python",
   "pygments_lexer": "ipython3",
   "version": "3.6.9"
  }
 },
 "nbformat": 4,
 "nbformat_minor": 4
}
