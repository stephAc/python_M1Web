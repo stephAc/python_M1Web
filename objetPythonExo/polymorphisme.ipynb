{
 "cells": [
  {
   "cell_type": "code",
   "execution_count": 6,
   "metadata": {},
   "outputs": [
    {
     "name": "stdout",
     "output_type": "stream",
     "text": [
      "Adresse destination: Lille \n",
      "Adresse epidition: Paris \n",
      "Poids: 80 grammes \n",
      "Mode: normal\n",
      "Format: A4 \n",
      "Prix du timbre: 280.0\n",
      "\n",
      "Adresse destination: Marrakeche \n",
      "Adresse epidition: Barcelone \n",
      "Poids: 3500 grammes \n",
      "Mode: expresse\n",
      "Volume: 2.25 \n",
      "Prix du timbre: 1.125\n"
     ]
    }
   ],
   "source": [
    "class Mail: \n",
    "    def __init__(self, destination, expedition, weight, method):\n",
    "        self._destination = destination\n",
    "        self._expedition = expedition\n",
    "        self._weight = weight\n",
    "        self._method = method\n",
    "    \n",
    "    def to_string(self):\n",
    "        print(\"Adresse destination: {destination} \\nAdresse epidition: {expedition} \\nPoids: {weight} grammes \\nMode: {method}\".format(destination=self._destination, expedition=self._expedition, weight=self._weight, method=self._method))\n",
    "    \n",
    "class Letter(Mail):\n",
    "    def __init__(self, destination, expedition, weight, method, forma):\n",
    "        super().__init__(destination, expedition, weight, method)\n",
    "        self._forma = forma\n",
    "    \n",
    "    def to_string(self):\n",
    "        Mail.to_string(self)\n",
    "        print(\"Format:\", self._forma, \"\\nPrix du timbre:\", self.price())\n",
    "    \n",
    "    def price(self):\n",
    "        rate = 2.5 if self._forma == 'A4' else 3.5\n",
    "        method = 1 if self._method == 'normal' else 2\n",
    "        return ((rate + 1) * self._weight) * method \n",
    "        \n",
    "        \n",
    "class Packet(Mail):\n",
    "    def __init__(self, destination, expedition, weight, method, volume):\n",
    "        super().__init__(destination, expedition, weight, method)\n",
    "        self._volume = volume\n",
    "    \n",
    "    def to_string(self):\n",
    "        Mail.to_string(self)\n",
    "        print(\"Volume:\", self._volume, \"\\nPrix du timbre:\", self.price())\n",
    "    \n",
    "    def price(self):\n",
    "        method = 1 if self._method == 'normal' else 2\n",
    "        return 0.25 * self._volume * method \n",
    "\n",
    "  \n",
    "    \n",
    "letter = Letter(\"Lille\",\"Paris\",80,\"normal\", \"A4\")\n",
    "letter.to_string()\n",
    "print()\n",
    "colis = Packet(\"Marrakeche\",\"Barcelone\",3500,\"expresse\",2.25)\n",
    "colis.to_string()"
   ]
  },
  {
   "cell_type": "code",
   "execution_count": null,
   "metadata": {},
   "outputs": [],
   "source": []
  }
 ],
 "metadata": {
  "kernelspec": {
   "display_name": "Python 3",
   "language": "python",
   "name": "python3"
  },
  "language_info": {
   "codemirror_mode": {
    "name": "ipython",
    "version": 3
   },
   "file_extension": ".py",
   "mimetype": "text/x-python",
   "name": "python",
   "nbconvert_exporter": "python",
   "pygments_lexer": "ipython3",
   "version": "3.6.9"
  }
 },
 "nbformat": 4,
 "nbformat_minor": 4
}
