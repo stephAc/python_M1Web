{
 "cells": [
  {
   "cell_type": "code",
   "execution_count": 18,
   "metadata": {},
   "outputs": [
    {
     "name": "stdout",
     "output_type": "stream",
     "text": [
      "Nom: Ilyass \n",
      "Prénom: Math\n",
      "Date de naissance:  01 / 07 / 1982\n",
      "\n",
      "Nom: Ilyass \n",
      "Prénom: Math\n",
      "Date de naissance:  01 / 07 / 1985\n",
      "Salaire: 76544.986\n",
      "\n",
      "Nom: Ilyass \n",
      "Prénom: Math\n",
      "Date de naissance:  01 / 07 / 1988\n",
      "Salaire: 76544.986\n",
      "Service: Ressource humaine\n"
     ]
    }
   ],
   "source": [
    "class BirthDate:\n",
    "    def __init__(self, day, month, year):\n",
    "        self._day = day\n",
    "        self._month = month\n",
    "        self._year = year\n",
    "    \n",
    "    def to_string(self):\n",
    "        day = \"0\" + str(self._day) if self._day < 10 else str(self._day)\n",
    "        month = \"0\" + str(self._month) if self._month < 10 else str(self._month)\n",
    "        print(\"Date de naissance: \", day, \"/\", month, \"/\", self._year)\n",
    "\n",
    "class Person:     \n",
    "    def __init__(self, last_name, first_name, birth_date):\n",
    "        self._last_name = last_name\n",
    "        self._first_name = first_name\n",
    "        self._birth_date = birth_date\n",
    "    \n",
    "    def afficher(self): \n",
    "        print(\"Nom: {last} \\nPrénom: {first}\".format(last=self._last_name, first=self._first_name))\n",
    "        self._birth_date.to_string()\n",
    "\n",
    "class Employee(Person):\n",
    "    def __init__(self, last_name, first_name, birth_date, wage):\n",
    "        super().__init__(last_name, first_name, birth_date)\n",
    "        self._wage = wage\n",
    "    \n",
    "    def afficher(self):\n",
    "        Person.afficher(self)\n",
    "        print(\"Salaire:\", self._wage)\n",
    "        \n",
    "class Chief(Employee):\n",
    "    def __init__(self, last_name, first_name, birth_date, wage, service):\n",
    "        super().__init__(last_name, first_name, birth_date, wage)\n",
    "        self._service = service\n",
    "    \n",
    "    def afficher(self):\n",
    "        Employee.afficher(self)\n",
    "        print(\"Service:\", self._service)\n",
    "        \n",
    "\n",
    "person = Person(\"Ilyass\", \"Math\", BirthDate(1,7,1982))\n",
    "person.afficher()\n",
    "print()\n",
    "employee = Employee(\"Ilyass\", \"Math\", BirthDate(1,7,1985), 76544.986)\n",
    "employee.afficher()\n",
    "print()\n",
    "chief = Chief(\"Ilyass\", \"Math\", BirthDate(1,7,1988), 76544.986, \"Ressource humaine\")\n",
    "chief.afficher()"
   ]
  },
  {
   "cell_type": "code",
   "execution_count": null,
   "metadata": {},
   "outputs": [],
   "source": []
  }
 ],
 "metadata": {
  "kernelspec": {
   "display_name": "Python 3",
   "language": "python",
   "name": "python3"
  },
  "language_info": {
   "codemirror_mode": {
    "name": "ipython",
    "version": 3
   },
   "file_extension": ".py",
   "mimetype": "text/x-python",
   "name": "python",
   "nbconvert_exporter": "python",
   "pygments_lexer": "ipython3",
   "version": "3.6.9"
  }
 },
 "nbformat": 4,
 "nbformat_minor": 4
}
